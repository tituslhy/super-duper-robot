{
 "cells": [
  {
   "cell_type": "code",
   "execution_count": 1,
   "id": "021e500b",
   "metadata": {},
   "outputs": [],
   "source": [
    "%load_ext autoreload\n",
    "%autoreload 2"
   ]
  },
  {
   "cell_type": "code",
   "execution_count": 2,
   "id": "58c82491",
   "metadata": {},
   "outputs": [],
   "source": [
    "import dspy\n",
    "\n",
    "lm = dspy.LM('ollama_chat/gpt-oss:20b')\n",
    "dspy.configure(lm=lm)"
   ]
  },
  {
   "cell_type": "code",
   "execution_count": 3,
   "id": "2512272d",
   "metadata": {},
   "outputs": [],
   "source": [
    "from pydantic import BaseModel, Field\n",
    "\n",
    "class Function(BaseModel):\n",
    "    code: str = Field(\n",
    "        ..., \n",
    "        description=(\n",
    "            (\"Code for the function. Include docstrings as well as type hints for input arguments and expected outputs. \"),\n",
    "            (\"Include any import statements (if any) within the function's code itself.\")\n",
    "        )\n",
    "    )\n",
    "    \n",
    "class Step(BaseModel):\n",
    "    step_order: int = Field(..., description=\"Order of step. For example: 1, 2, 3. Step number 1 will always be executed first\")\n",
    "    step_description: str = Field(..., description=\"What this step aims to fulfil\")\n",
    "    function: Function = Field(..., description=\"The python function\")\n",
    "\n",
    "class Plan(dspy.Signature):\n",
    "    question: str = dspy.InputField()\n",
    "    steps: list[Step] = dspy.OutputField(desc=\"The steps and their associated Python functions to adress the user's question.\")\n",
    "    \n",
    "class WriteTool(dspy.Signature):\n",
    "    code: str = dspy.InputField()\n",
    "    repurposed_code: str = dspy.OutputField(\n",
    "        desc=\"Consolidate these codes into 1 function that invokes it. This function will be used as a tool to an LLM so include arguments, type hints and dosctrings. Double check to ensure that you've imported everything you need for the tool to work.\"\n",
    "    )\n",
    "\n",
    "class ToolWriter(dspy.Module):\n",
    "    def __init__(self):\n",
    "        super().__init__()\n",
    "        self.planner = dspy.ChainOfThought(Plan)\n",
    "        self.format_to_tool = dspy.ChainOfThought(WriteTool)\n",
    "    \n",
    "    def consolidate_step_codes(self, plan: Plan):\n",
    "        return_ = \"\"\n",
    "        for step in plan.steps:\n",
    "            return_ += step.function.code\n",
    "        return return_\n",
    "    \n",
    "    def forward(self, question: str):\n",
    "        plan = self.planner(question=question)\n",
    "        code = self.consolidate_step_codes(plan=plan)\n",
    "        tool = self.format_to_tool(code=code)\n",
    "        return tool"
   ]
  },
  {
   "cell_type": "code",
   "execution_count": 4,
   "id": "91cdc5fc",
   "metadata": {},
   "outputs": [],
   "source": [
    "import random\n",
    "\n",
    "to_sort = [random.randint(1, 100) for _ in range(1000)]"
   ]
  },
  {
   "cell_type": "code",
   "execution_count": 5,
   "id": "ac264d4a",
   "metadata": {},
   "outputs": [],
   "source": [
    "question = f\"Do a heap sort of the following list: {to_sort}\"\n",
    "tool_writer = ToolWriter()\n",
    "tool = tool_writer(question=question)"
   ]
  },
  {
   "cell_type": "code",
   "execution_count": 6,
   "id": "fa443e65",
   "metadata": {},
   "outputs": [
    {
     "data": {
      "text/markdown": [
       "def heap_sort_tool(arr: list[int]) -> list[int]:\n",
       "    \"\"\"\n",
       "    Sort a list of integers using the heap sort algorithm.\n",
       "\n",
       "    This function performs an in‑place heap sort on the provided list and\n",
       "    returns the sorted list in ascending order.\n",
       "\n",
       "    Args:\n",
       "        arr: A list of integers to be sorted.\n",
       "\n",
       "    Returns:\n",
       "        The same list instance, sorted in ascending order.\n",
       "    \"\"\"\n",
       "    def sift_down(a: list[int], start: int, end: int) -> None:\n",
       "        root = start\n",
       "        while True:\n",
       "            child = 2 * root + 1\n",
       "            if child >= end:\n",
       "                break\n",
       "            if child + 1 < end and a[child] < a[child + 1]:\n",
       "                child += 1\n",
       "            if a[root] < a[child]:\n",
       "                a[root], a[child] = a[child], a[root]\n",
       "                root = child\n",
       "            else:\n",
       "                break\n",
       "\n",
       "    n = len(arr)\n",
       "    for i in range(n // 2 - 1, -1, -1):\n",
       "        sift_down(arr, i, n)\n",
       "    for end in range(n - 1, 0, -1):\n",
       "        arr[0], arr[end] = arr[end], arr[0]\n",
       "        sift_down(arr, 0, end)\n",
       "    return arr"
      ],
      "text/plain": [
       "<IPython.core.display.Markdown object>"
      ]
     },
     "metadata": {},
     "output_type": "display_data"
    }
   ],
   "source": [
    "from IPython.display import display, Markdown\n",
    "\n",
    "display(Markdown(tool.repurposed_code))"
   ]
  },
  {
   "cell_type": "code",
   "execution_count": 7,
   "id": "ae7cd7c6",
   "metadata": {},
   "outputs": [],
   "source": [
    "tower_of_hanoi = \"\"\"\n",
    "Bob and Alice like to play the game tower of Hanoi. One day Alice challenges Bob to build the tallest tower from a set of disks of different height and radius. \n",
    "\n",
    "The tower of Hanoi can be built by stacking disks on top of each other. In order to put disk A on top of disk B, the radius and height of A must be strictly smaller \n",
    "than those of B. Help Bob to win the challenge.\n",
    "\n",
    "Input:\n",
    "First line of input contains number of test cases T.\n",
    "First line of each test case contains value of N, the number of disks. The next N lines contains two positive integer number Ri and Hi corresponding to the radius and height of ith Disk respectively.\n",
    "\n",
    "Output:\n",
    "For each test case print the maximum height of the tower possible.\n",
    "\n",
    "Constraints:\n",
    "1<=T<=10\n",
    "1<=N<=200\n",
    "1<=Ri, Hi<=10^9\n",
    "\"\"\"\n",
    "\n",
    "tower_of_hanoi_tool = tool_writer(question=tower_of_hanoi)"
   ]
  },
  {
   "cell_type": "code",
   "execution_count": 8,
   "id": "8e84b4ec",
   "metadata": {},
   "outputs": [
    {
     "data": {
      "text/markdown": [
       "```python\n",
       "from __future__ import annotations\n",
       "from typing import List, Tuple\n",
       "\n",
       "\n",
       "def compute_tower_heights(input_data: str) -> List[int]:\n",
       "    \"\"\"\n",
       "    Compute the tallest possible tower height for each test case described in the\n",
       "    input string.\n",
       "\n",
       "    The input format follows the problem statement:\n",
       "        - The first line contains an integer T, the number of test cases.\n",
       "        - For each test case:\n",
       "            * A line with an integer N, the number of disks.\n",
       "            * N subsequent lines, each containing two integers R and H\n",
       "              representing the radius and height of a disk.\n",
       "\n",
       "    The function parses the input, applies a weighted longest‑increasing‑subsequence\n",
       "    algorithm on the heights after sorting by radius (ascending) and height\n",
       "    (descending for equal radii), and returns a list of the maximum tower heights\n",
       "    for each test case.\n",
       "\n",
       "    Parameters\n",
       "    ----------\n",
       "    input_data : str\n",
       "        Raw input data as a single string, typically read from a file or\n",
       "        provided directly.\n",
       "\n",
       "    Returns\n",
       "    -------\n",
       "    List[int]\n",
       "        A list where each element is the maximum tower height for the\n",
       "        corresponding test case. If the input is empty or contains no\n",
       "        test cases, an empty list is returned.\n",
       "\n",
       "    Examples\n",
       "    --------\n",
       "    >>> data = \\\"\\\"\\\"2\\n3\\n2 3\\n1 4\\n3 2\\n2\\n1 5\\n1 5\\\"\\\"\\\"\\n>>> compute_tower_heights(data)\\n[7, 5]\\n    \"\"\"\n",
       "    # ---------- Parsing ----------\n",
       "    tokens = input_data.strip().split()\n",
       "    if not tokens:\n",
       "        return []\n",
       "\n",
       "    it = iter(tokens)\n",
       "    try:\n",
       "        t = int(next(it))\n",
       "    except StopIteration:\n",
       "        return []\n",
       "\n",
       "    test_cases: List[Tuple[int, List[Tuple[int, int]]]] = []\n",
       "\n",
       "    for _ in range(t):\n",
       "        try:\n",
       "            n = int(next(it))\n",
       "        except StopIteration:\n",
       "            break\n",
       "\n",
       "        disks: List[Tuple[int, int]] = []\n",
       "        for _ in range(n):\n",
       "            try:\n",
       "                r = int(next(it))\n",
       "                h = int(next(it))\n",
       "            except StopIteration:\n",
       "                break\n",
       "            disks.append((r, h))\n",
       "\n",
       "        test_cases.append((n, disks))\n",
       "\n",
       "    # ---------- Solving ----------\n",
       "    results: List[int] = []\n",
       "\n",
       "    for n, disks in test_cases:\n",
       "        # Sort by radius ascending, height descending to enforce strictness on equal radii\n",
       "        disks.sort(key=lambda x: (x[0], -x[1]))\n",
       "        heights = [h for _, h in disks]\n",
       "\n",
       "        dp: List[int] = [0] * n\n",
       "        for i in range(n):\n",
       "            dp[i] = heights[i]  # at least the disk itself\n",
       "            for j in range(i):\n",
       "                if heights[j] < heights[i]:\n",
       "                    dp[i] = max(dp[i], dp[j] + heights[i])\n",
       "\n",
       "        results.append(max(dp) if dp else 0)\n",
       "\n",
       "    return results\n",
       "```"
      ],
      "text/plain": [
       "<IPython.core.display.Markdown object>"
      ]
     },
     "metadata": {},
     "output_type": "display_data"
    }
   ],
   "source": [
    "display(Markdown(tower_of_hanoi_tool.repurposed_code))"
   ]
  },
  {
   "cell_type": "code",
   "execution_count": null,
   "id": "aab4a5f9",
   "metadata": {},
   "outputs": [],
   "source": []
  }
 ],
 "metadata": {
  "kernelspec": {
   "display_name": "super-duper-robot",
   "language": "python",
   "name": "python3"
  },
  "language_info": {
   "codemirror_mode": {
    "name": "ipython",
    "version": 3
   },
   "file_extension": ".py",
   "mimetype": "text/x-python",
   "name": "python",
   "nbconvert_exporter": "python",
   "pygments_lexer": "ipython3",
   "version": "3.10.17"
  }
 },
 "nbformat": 4,
 "nbformat_minor": 5
}
